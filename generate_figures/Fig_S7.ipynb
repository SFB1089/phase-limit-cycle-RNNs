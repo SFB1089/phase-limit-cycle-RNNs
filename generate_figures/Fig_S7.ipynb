{
 "cells": [
  {
   "cell_type": "code",
   "execution_count": null,
   "id": "ba4e6ee6",
   "metadata": {},
   "outputs": [],
   "source": [
    "import numpy as np\n",
    "import os, sys\n",
    "sys.path.append(os.getcwd()+\"/..\")\n",
    "from rnn_scripts.train import *\n",
    "from rnn_scripts.utils import *\n",
    "from tasks.seqDS import *\n",
    "\n",
    "import matplotlib.pyplot as plt\n",
    "%matplotlib inline\n",
    "\n",
    "from mayavi import mlab\n",
    "mlab.init_notebook()\n",
    "\n",
    "_,_,luts1,luts2 = np.load('../data/luts.npy')\n"
   ]
  },
  {
   "cell_type": "code",
   "execution_count": null,
   "id": "e15fb9e3",
   "metadata": {},
   "outputs": [],
   "source": [
    "# Load models\n",
    "\n",
    "fig_dir=os.getcwd()+\"/../figures/\"\n",
    "model_dir = os.getcwd()+\"/../models/\"\n",
    "\n",
    "model = \"N512_T0222-185615\"  #4 items\n",
    "\n",
    "rnn,params,task_params,training_params = load_rnn(model_dir+model)\n"
   ]
  },
  {
   "cell_type": "code",
   "execution_count": null,
   "id": "c86c4e77",
   "metadata": {},
   "outputs": [],
   "source": [
    "# Some preprocessing / extracting parameters\n",
    "\n",
    "dt =2\n",
    "rnn.rnn.svd_orth()\n",
    "set_dt(task_params,rnn,dt)\n",
    "make_deterministic(task_params, rnn)\n",
    "I,n,m,W = extract_loadings(rnn, orth_I=False,split=True)\n",
    "alphas, I_orth = orthogonolise_Im(I,m)"
   ]
  },
  {
   "cell_type": "code",
   "execution_count": null,
   "id": "a1c11322",
   "metadata": {
    "scrolled": true
   },
   "outputs": [],
   "source": [
    "# Extract the trajectories\n",
    "\n",
    "task_params[\"probe_dur\"]=2\n",
    "ks,phases,rates = get_traj(rnn,task_params,freq=8,amp_scale=1)\n",
    "\n",
    "plt.figure(figsize=(4,4))\n",
    "for i in range(len(ks)):\n",
    "    plt.plot(ks[i,0], ks[i,1])\n",
    "vm = np.max(ks)*1.1\n",
    "plt.xlim(-vm,vm)\n",
    "plt.ylim(-vm,vm)"
   ]
  },
  {
   "cell_type": "code",
   "execution_count": null,
   "id": "b306e908",
   "metadata": {},
   "outputs": [],
   "source": [
    "mlab.clf()\n",
    "fig = mlab.figure(size = (1600,1600),\\\n",
    "            bgcolor = (1,1,1), fgcolor = (0.5, 0.5, 0.5))\n",
    "luts = [luts1,luts2/3+luts1*2/3,luts2*2/3+luts1*1/3,luts2]\n",
    "tw=.08\n",
    "floor=-1.5\n",
    "r_tor=1.5\n",
    "r=2\n",
    "r_s=1\n",
    "cvs = np.sin((phases))\n",
    "\n",
    "# plot floor\n",
    "torus=def_torus(r_tor,r_s)\n",
    "ks[:,:,-1]=ks[:,:,0]\n",
    "mlab.mesh(torus[0], torus[1], np.zeros_like(torus[2])+floor\n",
    "          , color=(0.5,0.5,0.5), opacity=0.05)\n",
    "\n",
    "# plot trajectories\n",
    "for i in range(len(ks)):\n",
    "    x1,y1,z1 = tor(ks[i,1],ks[i,0], phases,r)\n",
    "    surf1 = mlab.plot3d(x1, y1, z1,\n",
    "                        cvs, tube_radius=tw, colormap='cool')\n",
    "\n",
    "    surf1.module_manager.scalar_lut_manager.lut.table = luts[i]\n",
    "    surf1.actor.property.lighting = False\n",
    "   \n",
    "    # plot shadows\n",
    "    sh_surf1 = mlab.plot3d(x1,y1, floor*np.ones_like(phases),\n",
    "                        cvs, tube_radius=tw, colormap='cool')\n",
    "\n",
    "    shadow_lut1 = np.copy(luts[i])\n",
    "    shadow_lut1[:,3]=20\n",
    "    sh_surf1.module_manager.scalar_lut_manager.lut.table = shadow_lut1\n",
    "    sh_surf1.actor.property.lighting = False\n",
    "\n",
    "mlab.draw()\n",
    "mlab.view(azimuth=8, elevation=67, distance=36, \n",
    "          focalpoint=np.array([ 0,  0, -3.5]))\n",
    "mlab.plot3d(0,0,0)"
   ]
  }
 ],
 "metadata": {
  "kernelspec": {
   "display_name": "Python 3 (ipykernel)",
   "language": "python",
   "name": "python3"
  },
  "language_info": {
   "codemirror_mode": {
    "name": "ipython",
    "version": 3
   },
   "file_extension": ".py",
   "mimetype": "text/x-python",
   "name": "python",
   "nbconvert_exporter": "python",
   "pygments_lexer": "ipython3",
   "version": "3.8.13"
  },
  "toc": {
   "base_numbering": 1,
   "nav_menu": {},
   "number_sections": true,
   "sideBar": true,
   "skip_h1_title": false,
   "title_cell": "Table of Contents",
   "title_sidebar": "Contents",
   "toc_cell": false,
   "toc_position": {
    "height": "calc(100% - 180px)",
    "left": "10px",
    "top": "150px",
    "width": "169.140625px"
   },
   "toc_section_display": true,
   "toc_window_display": true
  }
 },
 "nbformat": 4,
 "nbformat_minor": 5
}
