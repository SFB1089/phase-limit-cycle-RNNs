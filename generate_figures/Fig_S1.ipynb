{
 "cells": [
  {
   "cell_type": "code",
   "execution_count": null,
   "id": "7705a3e0",
   "metadata": {},
   "outputs": [],
   "source": [
    "import numpy as np\n",
    "import os, sys\n",
    "sys.path.append(os.getcwd()+\"/..\")\n",
    "\n",
    "from rnn_scripts.utils import *\n",
    "from rnn_scripts.train import *\n",
    "\n",
    "cls= green_blue_colours()\n",
    "import matplotlib.pyplot as plt\n",
    "%matplotlib inline"
   ]
  },
  {
   "cell_type": "code",
   "execution_count": null,
   "id": "abb024fb",
   "metadata": {},
   "outputs": [],
   "source": [
    "# Load training data from three models\n",
    "\n",
    "fig_dir=os.getcwd()+\"/../figures/\"\n",
    "model_dir = os.getcwd()+\"/../models/\"\n",
    "\n",
    "model1 = \"N512_T0217-141442\" #rat 1\n",
    "model2 = \"N512_T0217-151523\" #rat 2\n",
    "model3 = \"N512_T0217-151542\" #rat 3\n",
    "\n",
    "_,_,_,training_params1 = load_rnn(model_dir+model1)\n",
    "_,_,_,training_params2 = load_rnn(model_dir+model2)\n",
    "_,_,_,training_params3 = load_rnn(model_dir+model3)"
   ]
  },
  {
   "cell_type": "code",
   "execution_count": null,
   "id": "aa2c257e",
   "metadata": {},
   "outputs": [],
   "source": [
    "# Plot training and validation loss for each model\n",
    "\n",
    "ls_val = '--'\n",
    "lw=1\n",
    "color1=cls[0]\n",
    "color2=cls[1]\n",
    "color3=cls[3]\n",
    "\n",
    "fig,axs = plt.subplots(1,3,figsize=(5,1.5))\n",
    "fig.tight_layout()\n",
    "axs[0].plot(training_params1['val_loss'],ls=ls_val,color=color1,label='1v',lw=lw)\n",
    "axs[0].plot(training_params1['train_loss'],color=color1,label='1',lw=lw)\n",
    "axs[1].plot(training_params2['val_loss'],ls=ls_val,color=color2,label='2v',lw=lw)\n",
    "axs[1].plot(training_params2['train_loss'],color=color2,label='2',lw=lw)\n",
    "axs[2].plot(training_params3['val_loss'],color=color3,label='validation ',lw=lw)\n",
    "axs[2].plot(training_params3['train_loss'],ls=ls_val,color=color3,label='train',lw=lw)\n",
    "axs[0].set_xlim(0,49)\n",
    "axs[1].set_xlim(0,49)\n",
    "axs[2].set_xlim(0,49)\n",
    "axs[2].legend()\n",
    "axs[0].set_ylim(0.1,0.55)\n",
    "axs[1].set_ylim(0.1,0.55)\n",
    "axs[2].set_ylim(0.1,0.55)\n",
    "axs[1].set_yticklabels([])\n",
    "axs[2].set_yticklabels([])\n",
    "\n",
    "axs[0].set_title(\"rat 1\")\n",
    "axs[1].set_title(\"rat 2\")\n",
    "axs[2].set_title(\"rat 3\")\n",
    "\n",
    "axs[0].set_xlabel(\"epochs\")\n",
    "axs[1].set_xlabel(\"epochs\")\n",
    "axs[2].set_xlabel(\"epochs\")\n",
    "axs[0].set_ylabel(\"loss\")\n",
    "\n",
    "plt.savefig(fig_dir +\"losses.svg\")\n",
    "\n"
   ]
  }
 ],
 "metadata": {
  "kernelspec": {
   "display_name": "Python 3 (ipykernel)",
   "language": "python",
   "name": "python3"
  },
  "language_info": {
   "codemirror_mode": {
    "name": "ipython",
    "version": 3
   },
   "file_extension": ".py",
   "mimetype": "text/x-python",
   "name": "python",
   "nbconvert_exporter": "python",
   "pygments_lexer": "ipython3",
   "version": "3.8.13"
  },
  "toc": {
   "base_numbering": 1,
   "nav_menu": {},
   "number_sections": true,
   "sideBar": true,
   "skip_h1_title": false,
   "title_cell": "Table of Contents",
   "title_sidebar": "Contents",
   "toc_cell": false,
   "toc_position": {},
   "toc_section_display": true,
   "toc_window_display": false
  }
 },
 "nbformat": 4,
 "nbformat_minor": 5
}
