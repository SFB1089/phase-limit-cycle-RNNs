{
 "cells": [
  {
   "cell_type": "code",
   "execution_count": null,
   "id": "ba4e6ee6",
   "metadata": {},
   "outputs": [],
   "source": [
    "import numpy as np\n",
    "from torch.utils.data import DataLoader\n",
    "import os, sys\n",
    "sys.path.append(os.getcwd()+\"/..\")\n",
    "from rnn_scripts.model import *\n",
    "from rnn_scripts.train import *\n",
    "from rnn_scripts.utils import *\n",
    "from tasks.seqDS import *\n",
    "import matplotlib.pyplot as plt\n",
    "%matplotlib inline"
   ]
  },
  {
   "cell_type": "code",
   "execution_count": null,
   "id": "e15fb9e3",
   "metadata": {},
   "outputs": [],
   "source": [
    "# Load models\n",
    "fig_dir=os.getcwd()+\"/../figures/\"\n",
    "model_dir = os.getcwd()+\"/../models/\"\n",
    "\n",
    "#model = \"N512_T0217-141442\" #rat 1\n",
    "model = \"N512_T0217-151523\" #rat 2\n",
    "#model = \"N512_T0217-151542\" #rat 3\n",
    "\n",
    "rnn,params,task_params,training_params = load_rnn(model_dir+model)\n",
    "rnn.rnn.svd_orth()\n",
    "weight_scalers_to_1(rnn)"
   ]
  },
  {
   "cell_type": "code",
   "execution_count": null,
   "id": "db0d8dab",
   "metadata": {},
   "outputs": [],
   "source": [
    "# Run model to get baseline loss\n",
    "ds = seqDS(task_params)\n",
    "dataloader = DataLoader(\n",
    "    ds, batch_size=128, shuffle=True\n",
    ")\n",
    "test_input, test_target, test_mask = next(iter(dataloader))\n",
    "rates, pred,bloss = predict(rnn, test_input,mse_loss, test_target, test_mask,return_loss=True)\n",
    "\n"
   ]
  },
  {
   "cell_type": "code",
   "execution_count": null,
   "id": "000253e0",
   "metadata": {},
   "outputs": [],
   "source": [
    "def resample(gmm,params):\n",
    "    \"\"\"Resample loadings of an RNN, using a fitted mixture model\"\"\"\n",
    "    loadings = gmm.sample(512)\n",
    "    params['loadings']=loadings[0].T\n",
    "    params['scale_w_out']=1\n",
    "    params['scale_w_inp']=1\n",
    "    rnn_rs =RNN(params)\n",
    "    return rnn_rs"
   ]
  },
  {
   "cell_type": "code",
   "execution_count": null,
   "id": "7830fbc1",
   "metadata": {},
   "outputs": [],
   "source": [
    "loadings = extract_loadings(rnn, orth_I=False, zero_center=False)\n",
    "n_test = 30\n",
    "accs = np.zeros((7,n_test))\n",
    "for i in range(1,8):\n",
    "    z,gmm = cluster(loadings,i,n_init=500)\n",
    "    for j in range(n_test):\n",
    "        rnn_rs=resample(gmm,params)\n",
    "        rates, pred,loss = predict(rnn_rs, test_input,mse_loss, test_target, test_mask,return_loss=True)\n",
    "        accs[i-1,j]=loss"
   ]
  },
  {
   "cell_type": "code",
   "execution_count": null,
   "id": "b2b79cc2",
   "metadata": {},
   "outputs": [],
   "source": [
    "# Plot accuracies over number of mixture components\n",
    "\n",
    "plt.figure(figsize=(1.75,1.5),dpi=150)\n",
    "plt.tight_layout()\n",
    "alpha=0.5\n",
    "for j in range(n_test):\n",
    "    plt.scatter(np.arange(1,8),accs[:,j],color='black',alpha=alpha)\n",
    "plt.axhline(bloss,label='baseline',color='red')\n",
    "plt.ylim(-0.1,1.1)\n",
    "plt.xlim(0.7,7.3)\n",
    "plt.yticks([0,0.5,1],labels=[])#,labels=['0','.5','1'])\n",
    "plt.xlabel(\"number of components\")\n",
    "plt.xticks(np.arange(1,8))\n",
    "plt.savefig(fig_dir + \"accs_rat2.svg\")"
   ]
  },
  {
   "cell_type": "code",
   "execution_count": null,
   "id": "396ca60e",
   "metadata": {},
   "outputs": [],
   "source": [
    "# Cluster using 3 components\n",
    "\n",
    "z,gmm = cluster(loadings,3)"
   ]
  },
  {
   "cell_type": "code",
   "execution_count": null,
   "id": "76e95ee7",
   "metadata": {},
   "outputs": [],
   "source": [
    "# Plot empirical covariance matrices \n",
    "\n",
    "covs = [np.cov(loadings[:7,z==i]) for i in np.arange(3)]\n",
    "titles =[\"w = {:.2f}\".format(np.sum(z==i)/len(z)) for i in np.arange(3)]\n",
    "fig,_ = plot_covs(covs, vm =np.max(np.abs(covs)),\n",
    "                  labels = [r\"$I_{osc}}$\", r\"$I_{s_a}$\", r\"$I_{s_b}$\", r\"$n_1$\", r\"$n_2$\", r\"$m_1$\", r\"$m_2$\"],\n",
    "                 titles = titles,\n",
    "                 float_labels=True,\n",
    "                 atol=0.5\n",
    ")\n",
    "plt.savefig(fig_dir + \"FS_conn.svg\")\n",
    "\n"
   ]
  },
  {
   "cell_type": "code",
   "execution_count": null,
   "id": "0c4627ca",
   "metadata": {},
   "outputs": [],
   "source": [
    "# Plot pair plots of the loadings\n",
    "for cl in np.arange(3):\n",
    "    fig = plot_loadings(loadings[:7,z==cl],z[z==cl],alpha=1,colors=['#7ECCB9','#A382BB','#7ECCB9'],hist_lims=np.max(np.abs(loadings)))\n",
    "plt.savefig(fig_dir + \"loadings\"+str(cl)+\".svg\")\n"
   ]
  }
 ],
 "metadata": {
  "kernelspec": {
   "display_name": "Python 3 (ipykernel)",
   "language": "python",
   "name": "python3"
  },
  "language_info": {
   "codemirror_mode": {
    "name": "ipython",
    "version": 3
   },
   "file_extension": ".py",
   "mimetype": "text/x-python",
   "name": "python",
   "nbconvert_exporter": "python",
   "pygments_lexer": "ipython3",
   "version": "3.8.13"
  },
  "toc": {
   "base_numbering": 1,
   "nav_menu": {},
   "number_sections": true,
   "sideBar": true,
   "skip_h1_title": false,
   "title_cell": "Table of Contents",
   "title_sidebar": "Contents",
   "toc_cell": false,
   "toc_position": {
    "height": "calc(100% - 180px)",
    "left": "10px",
    "top": "150px",
    "width": "169.140625px"
   },
   "toc_section_display": true,
   "toc_window_display": true
  }
 },
 "nbformat": 4,
 "nbformat_minor": 5
}
