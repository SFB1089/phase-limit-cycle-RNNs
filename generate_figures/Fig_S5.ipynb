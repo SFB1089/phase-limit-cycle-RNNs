{
 "cells": [
  {
   "cell_type": "code",
   "execution_count": null,
   "id": "1d5d34ce",
   "metadata": {},
   "outputs": [],
   "source": [
    "import numpy as np\n",
    "import os, sys\n",
    "sys.path.append(os.getcwd()+\"/..\")\n",
    "from rnn_scripts.train import *\n",
    "from rnn_scripts.utils import *\n",
    "from rnn_scripts.coupled_oscillators import *\n",
    "import matplotlib.pyplot as plt\n",
    "%matplotlib inline\n",
    "\n",
    "from mayavi import mlab\n",
    "mlab.init_notebook()\n",
    "_,_,lut1a,lut2a = np.load('../data/luts.npy')"
   ]
  },
  {
   "cell_type": "code",
   "execution_count": null,
   "id": "4fdd0fb8",
   "metadata": {},
   "outputs": [],
   "source": [
    "# Load models\n",
    "fig_dir=os.getcwd()+\"/../figures/\"\n",
    "model_dir = os.getcwd()+\"/../models/\"\n",
    "model = \"N512_T0217-151523\" #rat 2\n",
    "rnn,params,task_params,training_params = load_rnn(model_dir+model)"
   ]
  },
  {
   "cell_type": "code",
   "execution_count": null,
   "id": "82fa8b33",
   "metadata": {},
   "outputs": [],
   "source": [
    "# Some preprocessing / extracting parameters\n",
    "dt =.5\n",
    "rnn.rnn.svd_orth()\n",
    "set_dt(task_params,rnn,dt)\n",
    "make_deterministic(task_params, rnn)\n",
    "I,n,m,W = extract_loadings(rnn, orth_I=False,split=True)\n",
    "alphas, I_orth = orthogonolise_Im(I,m)\n",
    "freq=8.4\n",
    "rad=calculate_mean_radius(freq, rnn)\n",
    "N = params[\"n_rec\"]\n",
    "n_inp = params['n_inp']\n",
    "w= np.pi*2*freq\n",
    "tau_sw = (rnn.rnn.tau/1000)*w\n",
    "inp = np.zeros(n_inp-1)\n",
    "period = int((1000/freq)/dt)\n"
   ]
  },
  {
   "cell_type": "code",
   "execution_count": null,
   "id": "308e35f7",
   "metadata": {},
   "outputs": [],
   "source": [
    "# set up coupled oscillators\n",
    "co = coupled_oscillators(tau=rnn.rnn.tau/1000,freq=freq,m=m,n=n,I_orth=I_orth,alphas=alphas,rad=rad,amp=1)"
   ]
  },
  {
   "cell_type": "code",
   "execution_count": null,
   "id": "0ee0633b",
   "metadata": {},
   "outputs": [],
   "source": [
    "# Make plot\n",
    "\n",
    "mlab.clf()\n",
    "fig = mlab.figure(size = (1600,1600),\\\n",
    "            bgcolor = (1,1,1), fgcolor = (0.5, 0.5, 0.5))\n",
    "\n",
    "R = 2.5\n",
    "r = 1\n",
    "tw=.07\n",
    "\n",
    "# plot torus\n",
    "torus=def_torus(R,r)\n",
    "grey = 0.4\n",
    "opac = 0.05\n",
    "torusurf=mlab.mesh(torus[0], torus[1], torus[2], opacity=opac,color=(grey,grey,grey))\n",
    "torusurf.actor.property.lighting =False\n",
    "\n",
    "\n",
    "init_state=np.zeros(2)\n",
    "\n",
    "# Plot CO trajectories\n",
    "dur = 2\n",
    "dt  = 0.0005\n",
    "T_st = dur-(1/freq)\n",
    "T_st=int(T_st/dt)-2\n",
    "init_phis = np.arange(0,np.pi*2,np.pi)\n",
    "init_thetas = [0]\n",
    "inp = np.zeros(n_inp-1)\n",
    "all_states = co.run_sims(init_phis,init_thetas,dur,dt,inp,forward=True)\n",
    "for i, states in enumerate(all_states):\n",
    "    x,y,z = tor_from_angles(wrap(states[T_st:,0]),wrap(states[T_st:,1]),R,r+tw)\n",
    "    cvs = np.sin(wrap(states[T_st:,0]))\n",
    "\n",
    "    # Make dashed 3d lines\n",
    "    for it in np.arange(0,period,2):\n",
    "        if i<2:\n",
    "            color =(0,0,0)\n",
    "        else:\n",
    "            color = (0.8,0.8,0.8)\n",
    "        surf1 = mlab.plot3d(x[it:it+2],y[it:it+2],z[it:it+2],cvs[it:it+2], tube_radius=tw,color=color)#colormap='cool')  #zorder = 10, ls='-')\n",
    "        surf1.actor.property.lighting = False\n",
    "\n",
    "\n",
    "# Plot RNN trajectories projected in the same space\n",
    "tw=.05\n",
    "ks,phases,rates = get_traj(rnn,task_params,freq=8,amp_scale=1)\n",
    "for ind in np.arange(2):\n",
    "    k_phase = np.arctan2(ks[ind,1], ks[ind,0])\n",
    "    cvs = np.sin(phases)\n",
    "    x,y,z = tor_from_angles(phases-0.5*np.pi,k_phase,R,r+tw)\n",
    "\n",
    "    surf1 = mlab.plot3d(x,y,z,cvs,tube_radius=tw, colormap='cool')#,color = blue)#, colormap='cool')  #zorder = 10, ls='-')\n",
    "    surf1.module_manager.scalar_lut_manager.lut.table = lut1a\n",
    "    if ind==1:\n",
    "        surf1.module_manager.scalar_lut_manager.lut.table = lut2a\n",
    "\n",
    "    else:\n",
    "        surf1.module_manager.scalar_lut_manager.lut.table = lut1a\n",
    "    surf1.actor.property.lighting = False\n",
    "\n",
    "mlab.plot3d(0,0,0)\n",
    "\n"
   ]
  }
 ],
 "metadata": {
  "kernelspec": {
   "display_name": "Python 3 (ipykernel)",
   "language": "python",
   "name": "python3"
  },
  "language_info": {
   "codemirror_mode": {
    "name": "ipython",
    "version": 3
   },
   "file_extension": ".py",
   "mimetype": "text/x-python",
   "name": "python",
   "nbconvert_exporter": "python",
   "pygments_lexer": "ipython3",
   "version": "3.8.13"
  },
  "toc": {
   "base_numbering": 1,
   "nav_menu": {},
   "number_sections": true,
   "sideBar": true,
   "skip_h1_title": false,
   "title_cell": "Table of Contents",
   "title_sidebar": "Contents",
   "toc_cell": false,
   "toc_position": {},
   "toc_section_display": true,
   "toc_window_display": false
  }
 },
 "nbformat": 4,
 "nbformat_minor": 5
}
